{
 "cells": [
  {
   "cell_type": "markdown",
   "id": "af622a50-9a73-45f5-900f-19fb4a3808e3",
   "metadata": {},
   "source": [
    "### Ingestion"
   ]
  },
  {
   "cell_type": "code",
   "execution_count": 1,
   "id": "8a283828-0314-45e7-9b49-fdd26aa85d15",
   "metadata": {},
   "outputs": [],
   "source": [
    "# Import the datafile\n",
    "import requests\n",
    "data_url = 'https://raw.githubusercontent.com/eadka/fridgechef/main/Data/RecipeData.json'\n",
    "data_response = requests.get(data_url)\n",
    "recipes_data = data_response.json()"
   ]
  },
  {
   "cell_type": "code",
   "execution_count": 2,
   "id": "f63c7d37-d080-4192-9daf-c54ad0782e2c",
   "metadata": {},
   "outputs": [],
   "source": [
    "# Ensuring all the data has strings because minsearch, under the hood uses TfidfVectorizer and expects each text_field to be a string\n",
    "for recipe in recipes_data:\n",
    "    for field in [\"dish_name\",  \"cuisine\",  \"diet\", \"tags\",  \"main_ingredients\", \n",
    "                 \"cooking_time_minutes\", \"difficulty\",  \"ingredients_full\", \n",
    "                 \"instructions\", \"substitutions\", \"flavor_notes\"]:\n",
    "        value = recipe.get(field, \"\")\n",
    "        if isinstance(value,list):\n",
    "            recipe[field] = \" \".join(map(str,value)) # join the list into string\n",
    "        elif not isinstance(value, str):\n",
    "            recipe[field] = str(value) # convert numbers to string"
   ]
  },
  {
   "cell_type": "code",
   "execution_count": 3,
   "id": "8b3c387b-d249-4639-b022-b8eedf4d3677",
   "metadata": {},
   "outputs": [],
   "source": [
    "# Search engine and indexing\n",
    "import minsearch\n",
    "\n",
    "# Indexing the document\n",
    "index = minsearch.Index(\n",
    "    text_fields=[\"dish_name\",  \"cuisine\",  \"diet\", \"tags\",  \"main_ingredients\", \n",
    "                 \"cooking_time_minutes\", \"difficulty\",  \"ingredients_full\", \n",
    "                 \"instructions\", \"substitutions\", \"flavor_notes\"],\n",
    "    keyword_fields=[]\n",
    ")"
   ]
  },
  {
   "cell_type": "code",
   "execution_count": 4,
   "id": "2133c4a0-68d7-4d22-860d-191857547b08",
   "metadata": {
    "scrolled": true
   },
   "outputs": [
    {
     "data": {
      "text/plain": [
       "<minsearch.minsearch.Index at 0x75fba6361df0>"
      ]
     },
     "execution_count": 4,
     "metadata": {},
     "output_type": "execute_result"
    }
   ],
   "source": [
    "index.fit(recipes_data)"
   ]
  },
  {
   "cell_type": "code",
   "execution_count": 5,
   "id": "dc23865e-209a-42ba-b6ab-42f50b641660",
   "metadata": {},
   "outputs": [],
   "source": [
    "query = 'Give me recipes for carrots and beans'"
   ]
  },
  {
   "cell_type": "code",
   "execution_count": 6,
   "id": "b921baa9-49e2-478c-9499-0aa6e55b2f01",
   "metadata": {},
   "outputs": [
    {
     "data": {
      "text/plain": [
       "[{'dish_name': 'Rajma Masala',\n",
       "  'cuisine': 'Indian',\n",
       "  'diet': 'Vegan',\n",
       "  'tags': 'protein-rich curry comfort food',\n",
       "  'main_ingredients': 'kidney beans onion tomato ginger garam masala',\n",
       "  'cooking_time_minutes': '45',\n",
       "  'difficulty': 'Medium',\n",
       "  'ingredients_full': \"{'item': 'kidney beans', 'quantity': '2 cups cooked'} {'item': 'onion', 'quantity': '1 large'} {'item': 'tomato', 'quantity': '2'} {'item': 'ginger', 'quantity': '1 inch'} {'item': 'garam masala', 'quantity': '1 tsp'}\",\n",
       "  'instructions': 'Sauté onion and ginger until golden. Add tomato and spices, cook until soft. Add kidney beans, simmer for 20 minutes.',\n",
       "  'substitutions': \"{'kidney beans': ['black beans']}\",\n",
       "  'flavor_notes': 'Rich, spiced, and hearty.'},\n",
       " {'dish_name': 'Minestrone Soup',\n",
       "  'cuisine': 'Italian',\n",
       "  'diet': 'Vegan',\n",
       "  'tags': 'soup hearty vegetable-rich',\n",
       "  'main_ingredients': 'carrot celery zucchini beans pasta tomato',\n",
       "  'cooking_time_minutes': '40',\n",
       "  'difficulty': 'Easy',\n",
       "  'ingredients_full': \"{'item': 'carrot', 'quantity': '2'} {'item': 'celery', 'quantity': '2 stalks'} {'item': 'zucchini', 'quantity': '1'} {'item': 'cannellini beans', 'quantity': '1 cup cooked'} {'item': 'small pasta', 'quantity': '1/2 cup'} {'item': 'tomato', 'quantity': '2'} {'item': 'vegetable broth', 'quantity': '4 cups'}\",\n",
       "  'instructions': 'Sauté carrot and celery for 5 minutes. Add zucchini, tomato, beans, and broth. Simmer for 20 minutes. Add pasta and cook until tender.',\n",
       "  'substitutions': \"{'cannellini beans': ['kidney beans'], 'pasta': ['rice noodles']}\",\n",
       "  'flavor_notes': 'Comforting, savory with a light herbal aroma.'}]"
      ]
     },
     "execution_count": 6,
     "metadata": {},
     "output_type": "execute_result"
    }
   ],
   "source": [
    "index.search(query,num_results=2)"
   ]
  },
  {
   "cell_type": "markdown",
   "id": "138c4460-5fb2-4e7d-ae6e-e61e646720e0",
   "metadata": {},
   "source": [
    "### RAG Flow"
   ]
  },
  {
   "cell_type": "code",
   "execution_count": 7,
   "id": "b6389d96-97e1-4e0c-bdea-647236769ced",
   "metadata": {},
   "outputs": [],
   "source": [
    "# Open AI for LLM integration\n",
    "from openai import OpenAI\n",
    "\n",
    "client = OpenAI()"
   ]
  },
  {
   "cell_type": "code",
   "execution_count": 8,
   "id": "1e150d1c-ff65-4e74-9c5c-74fe3f8338b0",
   "metadata": {},
   "outputs": [],
   "source": [
    "# response = client.chat.completions.create(\n",
    "#     model='gpt-4o-mini',\n",
    "#     messages=[{\"role\": \"user\", \"content\": query}]\n",
    "# )\n",
    "\n",
    "# response.choices[0].message.content"
   ]
  },
  {
   "cell_type": "code",
   "execution_count": 9,
   "id": "dfeeecb6-b2a7-4f23-8147-52b1b5130805",
   "metadata": {},
   "outputs": [],
   "source": [
    "# Defining the RAG flow\n",
    "def search(query):\n",
    "    boost = {}\n",
    "\n",
    "    results = index.search(\n",
    "        query=query,\n",
    "        filter_dict={},\n",
    "        boost_dict=boost,\n",
    "        num_results=5\n",
    "    )\n",
    "\n",
    "    return results"
   ]
  },
  {
   "cell_type": "code",
   "execution_count": 10,
   "id": "83d27451-2e67-4663-afd8-d0e06f2f1c3a",
   "metadata": {},
   "outputs": [
    {
     "data": {
      "text/plain": [
       "{'dish_name': 'Vegetable Pad Thai',\n",
       " 'cuisine': 'Thai',\n",
       " 'diet': 'Vegan',\n",
       " 'tags': 'quick noodles stir-fry',\n",
       " 'main_ingredients': 'rice noodles tofu carrot bean sprouts spring onions peanuts soy sauce lime garlic',\n",
       " 'cooking_time_minutes': '25',\n",
       " 'difficulty': 'Easy',\n",
       " 'ingredients_full': \"{'item': 'rice noodles', 'quantity': '200g'} {'item': 'tofu', 'quantity': '150g'} {'item': 'carrot', 'quantity': '1 medium'} {'item': 'bean sprouts', 'quantity': '1 cup'} {'item': 'spring onions', 'quantity': '2'} {'item': 'peanuts', 'quantity': '2 tbsp, crushed'} {'item': 'soy sauce', 'quantity': '3 tbsp'} {'item': 'lime', 'quantity': '1'} {'item': 'garlic', 'quantity': '2 cloves'}\",\n",
       " 'instructions': 'Soak rice noodles in warm water for 20 minutes. Stir-fry garlic and tofu until golden. Add vegetables and stir-fry for 2-3 minutes. Add noodles and sauce, toss until combined. Garnish with peanuts and lime.',\n",
       " 'substitutions': \"{'tofu': ['tempeh', 'chickpeas'], 'soy sauce': ['tamari', 'coconut aminos']}\",\n",
       " 'flavor_notes': 'Savory-sweet with tangy lime, mild chili heat.'}"
      ]
     },
     "execution_count": 10,
     "metadata": {},
     "output_type": "execute_result"
    }
   ],
   "source": [
    "recipes_data[0]"
   ]
  },
  {
   "cell_type": "code",
   "execution_count": 11,
   "id": "97572462-6dbf-4490-aefb-88ef1d1aca76",
   "metadata": {},
   "outputs": [],
   "source": [
    "# prompt_template = \"\"\"\n",
    "# You're a \"Fridge Chef\", a helpful cooking assistant. \n",
    "# The user will give you a list of vegetables or ingredients they have available.\n",
    "# Base your answer only on the recipes in the CONTEXT.\n",
    "# If you cannot find an exact match, suggest the closest dishes using the available ingredients.\n",
    "\n",
    "# When answering:\n",
    "# - Include the dish name, cuisine, diet type, main ingredients, and cooking time.\n",
    "# - Provide short cooking instructions based on the CONTEXT.\n",
    "# - Suggest possible ingredient substitutions if given in the CONTEXT.\n",
    "# - If multiple dishes fit, return the top 3–5 most relevant recipes.\n",
    "\n",
    "# QUESTION: {question}\n",
    "\n",
    "# CONTEXT: \n",
    "# {context}\n",
    "# \"\"\".strip()\n",
    "\n",
    "# entry_template = \"\"\"\n",
    "# dish_name: {dish_name}\n",
    "# cuisine: {cuisine}\n",
    "# diet: {diet}\n",
    "# tags: {tags}\n",
    "# main_ingredients: {main_ingredients}\n",
    "# cooking_time_minutes: {cooking_time_minutes}\n",
    "# difficulty: {difficulty}\n",
    "# ingredients_full: {ingredients_full}\n",
    "# instructions: {instructions}\n",
    "# substitutions: {substitutions}\n",
    "# flavor_notes: {flavor_notes}\n",
    "# \"\"\".strip()\n",
    "\n",
    "# def build_prompt(query, search_results):\n",
    "#     context = \"\"\n",
    "    \n",
    "#     for doc in search_results:\n",
    "#         context = context + entry_template.format(**doc) + \"\\n\\n\"\n",
    "    \n",
    "#     prompt = prompt_template.format(question=query, context=context).strip()\n",
    "#     return prompt"
   ]
  },
  {
   "cell_type": "code",
   "execution_count": 12,
   "id": "7d7ec887-0d15-4475-b144-b55402567e65",
   "metadata": {},
   "outputs": [],
   "source": [
    "prompt_template = \"\"\"\n",
    "You're a \"Fridge Chef\", a helpful cooking assistant. \n",
    "The user will give you a list of vegetables or ingredients they have available.\n",
    "Base your answer only on the recipes in the CONTEXT.\n",
    "If you cannot find an exact match, suggest the closest dishes using the available ingredients.\n",
    "\n",
    "QUESTION: {question}\n",
    "\n",
    "CONTEXT: \n",
    "{context}\n",
    "\"\"\".strip()\n",
    "\n",
    "entry_template = \"\"\"\n",
    "dish_name: {dish_name}\n",
    "cuisine: {cuisine}\n",
    "diet: {diet}\n",
    "tags: {tags}\n",
    "main_ingredients: {main_ingredients}\n",
    "cooking_time_minutes: {cooking_time_minutes}\n",
    "difficulty: {difficulty}\n",
    "ingredients_full: {ingredients_full}\n",
    "instructions: {instructions}\n",
    "substitutions: {substitutions}\n",
    "flavor_notes: {flavor_notes}\n",
    "\"\"\".strip()\n",
    "\n",
    "def build_prompt(query, search_results):\n",
    "    context = \"\"\n",
    "    \n",
    "    for doc in search_results:\n",
    "        context = context + entry_template.format(**doc) + \"\\n\\n\"\n",
    "    \n",
    "    prompt = prompt_template.format(question=query, context=context).strip()\n",
    "    return prompt"
   ]
  },
  {
   "cell_type": "code",
   "execution_count": 13,
   "id": "c6375f15-fe41-4902-97d4-60ffb16baccc",
   "metadata": {},
   "outputs": [],
   "source": [
    "search_results = search(query)\n",
    "prompt = build_prompt(query, search_results)"
   ]
  },
  {
   "cell_type": "code",
   "execution_count": 14,
   "id": "7bdb8aea-8d74-411d-a67e-2fb9d608c933",
   "metadata": {},
   "outputs": [
    {
     "name": "stdout",
     "output_type": "stream",
     "text": [
      "You're a \"Fridge Chef\", a helpful cooking assistant. \n",
      "The user will give you a list of vegetables or ingredients they have available.\n",
      "Base your answer only on the recipes in the CONTEXT.\n",
      "If you cannot find an exact match, suggest the closest dishes using the available ingredients.\n",
      "\n",
      "QUESTION: Give me recipes for carrots and beans\n",
      "\n",
      "CONTEXT: \n",
      "dish_name: Rajma Masala\n",
      "cuisine: Indian\n",
      "diet: Vegan\n",
      "tags: protein-rich curry comfort food\n",
      "main_ingredients: kidney beans onion tomato ginger garam masala\n",
      "cooking_time_minutes: 45\n",
      "difficulty: Medium\n",
      "ingredients_full: {'item': 'kidney beans', 'quantity': '2 cups cooked'} {'item': 'onion', 'quantity': '1 large'} {'item': 'tomato', 'quantity': '2'} {'item': 'ginger', 'quantity': '1 inch'} {'item': 'garam masala', 'quantity': '1 tsp'}\n",
      "instructions: Sauté onion and ginger until golden. Add tomato and spices, cook until soft. Add kidney beans, simmer for 20 minutes.\n",
      "substitutions: {'kidney beans': ['black beans']}\n",
      "flavor_notes: Rich, spiced, and hearty.\n",
      "\n",
      "dish_name: Minestrone Soup\n",
      "cuisine: Italian\n",
      "diet: Vegan\n",
      "tags: soup hearty vegetable-rich\n",
      "main_ingredients: carrot celery zucchini beans pasta tomato\n",
      "cooking_time_minutes: 40\n",
      "difficulty: Easy\n",
      "ingredients_full: {'item': 'carrot', 'quantity': '2'} {'item': 'celery', 'quantity': '2 stalks'} {'item': 'zucchini', 'quantity': '1'} {'item': 'cannellini beans', 'quantity': '1 cup cooked'} {'item': 'small pasta', 'quantity': '1/2 cup'} {'item': 'tomato', 'quantity': '2'} {'item': 'vegetable broth', 'quantity': '4 cups'}\n",
      "instructions: Sauté carrot and celery for 5 minutes. Add zucchini, tomato, beans, and broth. Simmer for 20 minutes. Add pasta and cook until tender.\n",
      "substitutions: {'cannellini beans': ['kidney beans'], 'pasta': ['rice noodles']}\n",
      "flavor_notes: Comforting, savory with a light herbal aroma.\n",
      "\n",
      "dish_name: Ravioli with Spinach and Ricotta\n",
      "cuisine: Italian\n",
      "diet: Vegetarian\n",
      "tags: pasta stuffed italian\n",
      "main_ingredients: ravioli spinach ricotta tomato sauce\n",
      "cooking_time_minutes: 35\n",
      "difficulty: Medium\n",
      "ingredients_full: {'item': 'ravioli', 'quantity': '200 g'} {'item': 'spinach', 'quantity': '1 cup chopped'} {'item': 'ricotta cheese', 'quantity': '1/2 cup'} {'item': 'tomato sauce', 'quantity': '1 cup'} {'item': 'olive oil', 'quantity': '1 tbsp'}\n",
      "instructions: Boil ravioli until al dente. Mix spinach with ricotta to make filling and bake ravioli if using fresh pasta. Serve with heated tomato sauce on top.\n",
      "substitutions: {'ricotta': ['tofu for vegan option']}\n",
      "flavor_notes: Creamy, soft, and herby.\n",
      "\n",
      "dish_name: Kung Pao Vegetables\n",
      "cuisine: Chinese\n",
      "diet: Vegan\n",
      "tags: stir-fry spicy peanuts\n",
      "main_ingredients: bell peppers carrots peanuts soy sauce\n",
      "cooking_time_minutes: 25\n",
      "difficulty: Medium\n",
      "ingredients_full: {'item': 'bell peppers', 'quantity': '1 cup chopped'} {'item': 'carrots', 'quantity': '1 cup chopped'} {'item': 'peanuts', 'quantity': '1/4 cup'} {'item': 'garlic', 'quantity': '2 cloves minced'} {'item': 'soy sauce', 'quantity': '2 tbsp'}\n",
      "instructions: Sauté garlic in oil, add vegetables and stir-fry for 5-6 minutes. Add soy sauce and peanuts, cook for 2 more minutes. Serve hot.\n",
      "substitutions: {'peanuts': ['cashews']}\n",
      "flavor_notes: Spicy, nutty, and savory.\n",
      "\n",
      "dish_name: Sweet Corn Soup\n",
      "cuisine: Chinese\n",
      "diet: Vegetarian\n",
      "tags: soup starter chinese\n",
      "main_ingredients: corn vegetable broth carrots cornflour\n",
      "cooking_time_minutes: 25\n",
      "difficulty: Easy\n",
      "ingredients_full: {'item': 'corn kernels', 'quantity': '1 cup'} {'item': 'carrot', 'quantity': '1/2 cup diced'} {'item': 'vegetable broth', 'quantity': '3 cups'} {'item': 'cornflour', 'quantity': '1 tbsp'} {'item': 'soy sauce', 'quantity': '1 tsp'}\n",
      "instructions: Boil corn and carrots in vegetable broth until tender. Mix cornflour with water and add to soup to thicken. Season with soy sauce and serve hot.\n",
      "substitutions: {'cornflour': ['all-purpose flour']}\n",
      "flavor_notes: Sweet, savory, and comforting.\n"
     ]
    }
   ],
   "source": [
    "print(prompt)"
   ]
  },
  {
   "cell_type": "code",
   "execution_count": 15,
   "id": "be22f79d-6e11-48cf-bb80-eae49bb41203",
   "metadata": {},
   "outputs": [],
   "source": [
    "def llm(prompt):\n",
    "    response = client.chat.completions.create(\n",
    "        model='gpt-4o-mini',\n",
    "        messages=[{\"role\": \"user\", \"content\": prompt}]\n",
    "    )\n",
    "    \n",
    "    return response.choices[0].message.content"
   ]
  },
  {
   "cell_type": "code",
   "execution_count": 16,
   "id": "d80800f1-bed3-4f4b-95b8-6319a9b9fca9",
   "metadata": {},
   "outputs": [
    {
     "data": {
      "text/plain": [
       "'Based on the ingredients you provided, here are two recipes that feature carrots and beans:\\n\\n1. **Minestrone Soup** (Italian)\\n   - **Cooking Time:** 40 minutes\\n   - **Difficulty:** Easy\\n   - **Ingredients:**\\n     - 2 carrots\\n     - 2 stalks celery\\n     - 1 zucchini\\n     - 1 cup cooked cannellini beans (you can substitute with kidney beans)\\n     - 2 tomatoes\\n     - 4 cups vegetable broth\\n     - 1/2 cup small pasta\\n   - **Instructions:**\\n     1. Sauté carrot and celery for 5 minutes.\\n     2. Add zucchini, tomatoes, beans, and vegetable broth. Simmer for 20 minutes.\\n     3. Add pasta and cook until tender.\\n\\n   - **Flavor Notes:** Comforting, savory with a light herbal aroma.\\n\\n2. **Kung Pao Vegetables** (Chinese)\\n   - **Cooking Time:** 25 minutes\\n   - **Difficulty:** Medium\\n   - **Ingredients:**\\n     - 1 cup chopped carrots\\n     - 1 cup chopped bell peppers\\n     - 2 tbsp soy sauce\\n     - 1/4 cup peanuts (optional)\\n     - 2 cloves minced garlic\\n   - **Instructions:**\\n     1. Sauté garlic in oil, add carrots and bell peppers, and stir-fry for 5-6 minutes.\\n     2. Add soy sauce and peanuts, cooking for 2 more minutes. Serve hot.\\n\\n   - **Flavor Notes:** Spicy, nutty, and savory.\\n\\nThese dishes creatively combine carrots and beans, providing satisfying and healthy options! Enjoy your cooking!'"
      ]
     },
     "execution_count": 16,
     "metadata": {},
     "output_type": "execute_result"
    }
   ],
   "source": [
    "def rag(query):\n",
    "    search_results = search(query)\n",
    "    prompt = build_prompt(query, search_results)\n",
    "    answer = llm(prompt)\n",
    "    return answer\n",
    "rag(query)"
   ]
  },
  {
   "cell_type": "code",
   "execution_count": 17,
   "id": "7cbe7bcd-70b5-4bb9-9f60-1392b64e7906",
   "metadata": {},
   "outputs": [
    {
     "name": "stdout",
     "output_type": "stream",
     "text": [
      "The main cooking technique used in the Vegetable Pad Thai is stir-frying.\n"
     ]
    }
   ],
   "source": [
    "answer = rag('What is the main cooking technique used in the Vegetable Pad Thai?')\n",
    "print(answer)"
   ]
  },
  {
   "cell_type": "markdown",
   "id": "d87acaee-5943-46bf-9e01-aa23ebf09f9f",
   "metadata": {},
   "source": [
    "### Retrieval Evaluation"
   ]
  },
  {
   "cell_type": "code",
   "execution_count": 18,
   "id": "97e84158-86c3-4d0d-b1df-f8630db1b94b",
   "metadata": {},
   "outputs": [],
   "source": [
    "import pandas as pd"
   ]
  },
  {
   "cell_type": "code",
   "execution_count": 20,
   "id": "5c59fd2e-5783-421b-b965-9ed8b71acf1e",
   "metadata": {},
   "outputs": [],
   "source": [
    "df_question = pd.read_csv('../Data/ground-truth-retrieval.csv')"
   ]
  },
  {
   "cell_type": "code",
   "execution_count": 37,
   "id": "920d137d-590f-4387-86a9-d3415b5d9ff7",
   "metadata": {},
   "outputs": [
    {
     "data": {
      "text/html": [
       "<div>\n",
       "<style scoped>\n",
       "    .dataframe tbody tr th:only-of-type {\n",
       "        vertical-align: middle;\n",
       "    }\n",
       "\n",
       "    .dataframe tbody tr th {\n",
       "        vertical-align: top;\n",
       "    }\n",
       "\n",
       "    .dataframe thead th {\n",
       "        text-align: right;\n",
       "    }\n",
       "</style>\n",
       "<table border=\"1\" class=\"dataframe\">\n",
       "  <thead>\n",
       "    <tr style=\"text-align: right;\">\n",
       "      <th></th>\n",
       "      <th>id</th>\n",
       "      <th>question</th>\n",
       "    </tr>\n",
       "  </thead>\n",
       "  <tbody>\n",
       "    <tr>\n",
       "      <th>0</th>\n",
       "      <td>Vegetable Pad Thai</td>\n",
       "      <td>What are the main ingredients used in the Vege...</td>\n",
       "    </tr>\n",
       "    <tr>\n",
       "      <th>1</th>\n",
       "      <td>Vegetable Pad Thai</td>\n",
       "      <td>How long does it take to cook the Vegetable Pa...</td>\n",
       "    </tr>\n",
       "    <tr>\n",
       "      <th>2</th>\n",
       "      <td>Vegetable Pad Thai</td>\n",
       "      <td>What can I use instead of tofu in the Vegetabl...</td>\n",
       "    </tr>\n",
       "    <tr>\n",
       "      <th>3</th>\n",
       "      <td>Vegetable Pad Thai</td>\n",
       "      <td>What type of cuisine does the Vegetable Pad Th...</td>\n",
       "    </tr>\n",
       "    <tr>\n",
       "      <th>4</th>\n",
       "      <td>Vegetable Pad Thai</td>\n",
       "      <td>Can you describe the flavor profile of the Veg...</td>\n",
       "    </tr>\n",
       "  </tbody>\n",
       "</table>\n",
       "</div>"
      ],
      "text/plain": [
       "                   id                                           question\n",
       "0  Vegetable Pad Thai  What are the main ingredients used in the Vege...\n",
       "1  Vegetable Pad Thai  How long does it take to cook the Vegetable Pa...\n",
       "2  Vegetable Pad Thai  What can I use instead of tofu in the Vegetabl...\n",
       "3  Vegetable Pad Thai  What type of cuisine does the Vegetable Pad Th...\n",
       "4  Vegetable Pad Thai  Can you describe the flavor profile of the Veg..."
      ]
     },
     "execution_count": 37,
     "metadata": {},
     "output_type": "execute_result"
    }
   ],
   "source": [
    "df_question.head()"
   ]
  },
  {
   "cell_type": "code",
   "execution_count": 36,
   "id": "d81b9278-393e-45ce-9222-1174f297d29e",
   "metadata": {},
   "outputs": [
    {
     "data": {
      "text/html": [
       "<div>\n",
       "<style scoped>\n",
       "    .dataframe tbody tr th:only-of-type {\n",
       "        vertical-align: middle;\n",
       "    }\n",
       "\n",
       "    .dataframe tbody tr th {\n",
       "        vertical-align: top;\n",
       "    }\n",
       "\n",
       "    .dataframe thead th {\n",
       "        text-align: right;\n",
       "    }\n",
       "</style>\n",
       "<table border=\"1\" class=\"dataframe\">\n",
       "  <thead>\n",
       "    <tr style=\"text-align: right;\">\n",
       "      <th></th>\n",
       "      <th>id</th>\n",
       "      <th>question</th>\n",
       "    </tr>\n",
       "  </thead>\n",
       "  <tbody>\n",
       "    <tr>\n",
       "      <th>count</th>\n",
       "      <td>490</td>\n",
       "      <td>490</td>\n",
       "    </tr>\n",
       "    <tr>\n",
       "      <th>unique</th>\n",
       "      <td>98</td>\n",
       "      <td>486</td>\n",
       "    </tr>\n",
       "    <tr>\n",
       "      <th>top</th>\n",
       "      <td>Vegetable Pad Thai</td>\n",
       "      <td>Can I use tofu instead of paneer in this recipe?</td>\n",
       "    </tr>\n",
       "    <tr>\n",
       "      <th>freq</th>\n",
       "      <td>5</td>\n",
       "      <td>2</td>\n",
       "    </tr>\n",
       "  </tbody>\n",
       "</table>\n",
       "</div>"
      ],
      "text/plain": [
       "                        id                                          question\n",
       "count                  490                                               490\n",
       "unique                  98                                               486\n",
       "top     Vegetable Pad Thai  Can I use tofu instead of paneer in this recipe?\n",
       "freq                     5                                                 2"
      ]
     },
     "execution_count": 36,
     "metadata": {},
     "output_type": "execute_result"
    }
   ],
   "source": [
    "df_question.describe()"
   ]
  },
  {
   "cell_type": "code",
   "execution_count": 22,
   "id": "6131126b-38e4-40d7-951e-3c6443cdebc6",
   "metadata": {},
   "outputs": [],
   "source": [
    "ground_truth = df_question.to_dict(orient='records')"
   ]
  },
  {
   "cell_type": "code",
   "execution_count": 23,
   "id": "d9048fb7-6638-4f5d-9b2f-942750e0266a",
   "metadata": {},
   "outputs": [
    {
     "data": {
      "text/plain": [
       "{'id': 'Vegetable Pad Thai',\n",
       " 'question': 'What are the main ingredients used in the Vegetable Pad Thai recipe?'}"
      ]
     },
     "execution_count": 23,
     "metadata": {},
     "output_type": "execute_result"
    }
   ],
   "source": [
    "ground_truth[0]"
   ]
  },
  {
   "cell_type": "code",
   "execution_count": 24,
   "id": "82e645db-8214-4098-bb9d-bf4a338b5bcc",
   "metadata": {},
   "outputs": [],
   "source": [
    "def hit_rate(relevance_total):\n",
    "    cnt = 0\n",
    "\n",
    "    for line in relevance_total:\n",
    "        if True in line:\n",
    "            cnt = cnt + 1\n",
    "\n",
    "    return cnt / len(relevance_total)\n",
    "\n",
    "def mrr(relevance_total):\n",
    "    total_score = 0.0\n",
    "\n",
    "    for line in relevance_total:\n",
    "        for rank in range(len(line)):\n",
    "            if line[rank] == True:\n",
    "                total_score = total_score + 1 / (rank + 1)\n",
    "\n",
    "    return total_score / len(relevance_total)"
   ]
  },
  {
   "cell_type": "code",
   "execution_count": 25,
   "id": "5094e969-675d-481f-9102-d827133ee76b",
   "metadata": {},
   "outputs": [],
   "source": [
    "def minsearch_search(query):\n",
    "    boost = {}\n",
    "\n",
    "    results = index.search(\n",
    "        query=query,\n",
    "        filter_dict={},\n",
    "        boost_dict=boost,\n",
    "        num_results=10\n",
    "    )\n",
    "\n",
    "    return results"
   ]
  },
  {
   "cell_type": "code",
   "execution_count": 32,
   "id": "5b641962-ef6e-4e1e-8ccf-946a356ebf94",
   "metadata": {},
   "outputs": [],
   "source": [
    "def evaluate(ground_truth, search_function):\n",
    "    relevance_total = []\n",
    "\n",
    "    for q in tqdm(ground_truth):\n",
    "        doc_id = q['id']\n",
    "        results = search_function(q)\n",
    "        relevance = [d['dish_name'] == doc_id for d in results]\n",
    "        relevance_total.append(relevance)\n",
    "\n",
    "    return {\n",
    "        'hit_rate': hit_rate(relevance_total),\n",
    "        'mrr': mrr(relevance_total),\n",
    "    }"
   ]
  },
  {
   "cell_type": "code",
   "execution_count": 33,
   "id": "0d37ec76-6d3d-4844-9486-692b0c99f36d",
   "metadata": {},
   "outputs": [],
   "source": [
    "from tqdm.auto import tqdm"
   ]
  },
  {
   "cell_type": "code",
   "execution_count": 34,
   "id": "55ecdc5c-d789-4591-8fb8-2c35c8a00405",
   "metadata": {},
   "outputs": [
    {
     "data": {
      "application/vnd.jupyter.widget-view+json": {
       "model_id": "87cc9be706a84323b2636134e868ac3f",
       "version_major": 2,
       "version_minor": 0
      },
      "text/plain": [
       "  0%|          | 0/490 [00:00<?, ?it/s]"
      ]
     },
     "metadata": {},
     "output_type": "display_data"
    },
    {
     "data": {
      "text/plain": [
       "{'hit_rate': 0.9755102040816327, 'mrr': 0.836089245221898}"
      ]
     },
     "execution_count": 34,
     "metadata": {},
     "output_type": "execute_result"
    }
   ],
   "source": [
    "evaluate(ground_truth, lambda q: minsearch_search(q['question']))"
   ]
  },
  {
   "cell_type": "markdown",
   "id": "c2304a2c-2743-4495-bb87-790cbeb4151b",
   "metadata": {},
   "source": [
    "### Finding the best parameters"
   ]
  },
  {
   "cell_type": "code",
   "execution_count": 35,
   "id": "ee6602ea-b6a4-49a2-bd85-060f775cfd00",
   "metadata": {},
   "outputs": [
    {
     "name": "stderr",
     "output_type": "stream",
     "text": [
      "/usr/local/python/3.12.1/lib/python3.12/site-packages/hyperopt/atpe.py:19: UserWarning: pkg_resources is deprecated as an API. See https://setuptools.pypa.io/en/latest/pkg_resources.html. The pkg_resources package is slated for removal as early as 2025-11-30. Refrain from using this package or pin to Setuptools<81.\n",
      "  import pkg_resources\n"
     ]
    }
   ],
   "source": [
    "from hyperopt import fmin, tpe, hp, STATUS_OK, Trials\n",
    "from hyperopt.pyll import scope"
   ]
  },
  {
   "cell_type": "code",
   "execution_count": 38,
   "id": "700e15de-1624-409f-82a1-055c3bcf7a64",
   "metadata": {},
   "outputs": [],
   "source": [
    "# Breaking the data into validation and test data sets\n",
    "df_validation = df_question[:100]\n",
    "df_test = df_question[100:]"
   ]
  },
  {
   "cell_type": "code",
   "execution_count": 39,
   "id": "9698dcaf-b60b-4dc4-9f43-fa8ecb49a6dc",
   "metadata": {},
   "outputs": [],
   "source": [
    "import random\n",
    "\n",
    "def simple_optimize(param_ranges, objective_function, n_iterations=10):\n",
    "    best_params = None\n",
    "    best_score = float('-inf')  # Using float('-inf') if maximizing.\n",
    "\n",
    "    for _ in range(n_iterations):\n",
    "        # Generate random parameters\n",
    "        current_params = {}\n",
    "        for param, (min_val, max_val) in param_ranges.items():\n",
    "            if isinstance(min_val, int) and isinstance(max_val, int):\n",
    "                current_params[param] = random.randint(min_val, max_val)\n",
    "            else:\n",
    "                current_params[param] = random.uniform(min_val, max_val)\n",
    "        \n",
    "        # Evaluate the objective function\n",
    "        current_score = objective_function(current_params)\n",
    "        \n",
    "        # Update best if current is better\n",
    "        if current_score > best_score:  # Change to > if maximizing\n",
    "            best_score = current_score\n",
    "            best_params = current_params\n",
    "    \n",
    "    return best_params, best_score"
   ]
  },
  {
   "cell_type": "code",
   "execution_count": 40,
   "id": "7ab7bd8a-2ca6-4f82-ab19-40738d57a3b3",
   "metadata": {},
   "outputs": [],
   "source": [
    "gt_val = df_validation.to_dict(orient='records')"
   ]
  },
  {
   "cell_type": "code",
   "execution_count": 41,
   "id": "6fd9f5b1-746a-4fb2-8be7-ae46f25b40b0",
   "metadata": {},
   "outputs": [],
   "source": [
    "def minsearch_search(query,boost=None):\n",
    "    if boost is None:\n",
    "        boost = {}\n",
    "\n",
    "    results = index.search(\n",
    "        query=query,\n",
    "        filter_dict={},\n",
    "        boost_dict=boost,\n",
    "        num_results=10\n",
    "    )\n",
    "\n",
    "    return results"
   ]
  },
  {
   "cell_type": "code",
   "execution_count": 48,
   "id": "4fc5c223-bd4c-4a1f-bd39-a31d6719a82f",
   "metadata": {},
   "outputs": [],
   "source": [
    "# mrr\n",
    "param_ranges = {\n",
    "    'dish_name': (0.0,3.0),\n",
    "    'cuisine': (0.0,3.0),\n",
    "    'diet': (0.0,3.0),\n",
    "    'tags': (0.0,3.0),\n",
    "    'main_ingredients': (0.0,3.0),\n",
    "    'cooking_time_minutes': (0.0,3.0),\n",
    "    'difficulty': (0.0,3.0),\n",
    "    'ingredients_full': (0.0,3.0)\n",
    "}\n",
    "\n",
    "def objective(boost_params):\n",
    "    def search_function(q):\n",
    "        return minsearch_search(q['question'], boost_params)\n",
    "\n",
    "    results = evaluate(gt_val, search_function)\n",
    "    return results['mrr']"
   ]
  },
  {
   "cell_type": "code",
   "execution_count": 49,
   "id": "4e73ab5d-b235-4719-91c5-ecaff8a561c7",
   "metadata": {},
   "outputs": [
    {
     "data": {
      "application/vnd.jupyter.widget-view+json": {
       "model_id": "657dc45b2200473583210701a17cf2c8",
       "version_major": 2,
       "version_minor": 0
      },
      "text/plain": [
       "  0%|          | 0/100 [00:00<?, ?it/s]"
      ]
     },
     "metadata": {},
     "output_type": "display_data"
    },
    {
     "data": {
      "application/vnd.jupyter.widget-view+json": {
       "model_id": "be555e774aa9489cb143ee942e13ebd9",
       "version_major": 2,
       "version_minor": 0
      },
      "text/plain": [
       "  0%|          | 0/100 [00:00<?, ?it/s]"
      ]
     },
     "metadata": {},
     "output_type": "display_data"
    },
    {
     "data": {
      "application/vnd.jupyter.widget-view+json": {
       "model_id": "7b60794f28214413a49b479fcf45c057",
       "version_major": 2,
       "version_minor": 0
      },
      "text/plain": [
       "  0%|          | 0/100 [00:00<?, ?it/s]"
      ]
     },
     "metadata": {},
     "output_type": "display_data"
    },
    {
     "data": {
      "application/vnd.jupyter.widget-view+json": {
       "model_id": "c327191cfcdf4043a2d2c6834204b69d",
       "version_major": 2,
       "version_minor": 0
      },
      "text/plain": [
       "  0%|          | 0/100 [00:00<?, ?it/s]"
      ]
     },
     "metadata": {},
     "output_type": "display_data"
    },
    {
     "data": {
      "application/vnd.jupyter.widget-view+json": {
       "model_id": "37fb0b686a92404d997fb9401ef9f78f",
       "version_major": 2,
       "version_minor": 0
      },
      "text/plain": [
       "  0%|          | 0/100 [00:00<?, ?it/s]"
      ]
     },
     "metadata": {},
     "output_type": "display_data"
    },
    {
     "data": {
      "application/vnd.jupyter.widget-view+json": {
       "model_id": "743173027ac94ffda2c4abb05790561c",
       "version_major": 2,
       "version_minor": 0
      },
      "text/plain": [
       "  0%|          | 0/100 [00:00<?, ?it/s]"
      ]
     },
     "metadata": {},
     "output_type": "display_data"
    },
    {
     "data": {
      "application/vnd.jupyter.widget-view+json": {
       "model_id": "5724d090c5874053b53516efc4993cdf",
       "version_major": 2,
       "version_minor": 0
      },
      "text/plain": [
       "  0%|          | 0/100 [00:00<?, ?it/s]"
      ]
     },
     "metadata": {},
     "output_type": "display_data"
    },
    {
     "data": {
      "application/vnd.jupyter.widget-view+json": {
       "model_id": "7e04fdd74a484513be160290fd96ec20",
       "version_major": 2,
       "version_minor": 0
      },
      "text/plain": [
       "  0%|          | 0/100 [00:00<?, ?it/s]"
      ]
     },
     "metadata": {},
     "output_type": "display_data"
    },
    {
     "data": {
      "application/vnd.jupyter.widget-view+json": {
       "model_id": "8275d1ccecf142afb2b3cef5ed07efda",
       "version_major": 2,
       "version_minor": 0
      },
      "text/plain": [
       "  0%|          | 0/100 [00:00<?, ?it/s]"
      ]
     },
     "metadata": {},
     "output_type": "display_data"
    },
    {
     "data": {
      "application/vnd.jupyter.widget-view+json": {
       "model_id": "2803f2a47c7b47e6bacdaa05b4901883",
       "version_major": 2,
       "version_minor": 0
      },
      "text/plain": [
       "  0%|          | 0/100 [00:00<?, ?it/s]"
      ]
     },
     "metadata": {},
     "output_type": "display_data"
    },
    {
     "data": {
      "application/vnd.jupyter.widget-view+json": {
       "model_id": "fc19532093724dde90220c39d40ce6b2",
       "version_major": 2,
       "version_minor": 0
      },
      "text/plain": [
       "  0%|          | 0/100 [00:00<?, ?it/s]"
      ]
     },
     "metadata": {},
     "output_type": "display_data"
    },
    {
     "data": {
      "application/vnd.jupyter.widget-view+json": {
       "model_id": "ad1141152fec458c9c6dfa4eb696fbb4",
       "version_major": 2,
       "version_minor": 0
      },
      "text/plain": [
       "  0%|          | 0/100 [00:00<?, ?it/s]"
      ]
     },
     "metadata": {},
     "output_type": "display_data"
    },
    {
     "data": {
      "application/vnd.jupyter.widget-view+json": {
       "model_id": "7bcf9e1dd4994ff598e24a34baa504d8",
       "version_major": 2,
       "version_minor": 0
      },
      "text/plain": [
       "  0%|          | 0/100 [00:00<?, ?it/s]"
      ]
     },
     "metadata": {},
     "output_type": "display_data"
    },
    {
     "data": {
      "application/vnd.jupyter.widget-view+json": {
       "model_id": "aff913f152e843a887098c1c613df4c7",
       "version_major": 2,
       "version_minor": 0
      },
      "text/plain": [
       "  0%|          | 0/100 [00:00<?, ?it/s]"
      ]
     },
     "metadata": {},
     "output_type": "display_data"
    },
    {
     "data": {
      "application/vnd.jupyter.widget-view+json": {
       "model_id": "5aeefcf430724b27a093c70d85e781bb",
       "version_major": 2,
       "version_minor": 0
      },
      "text/plain": [
       "  0%|          | 0/100 [00:00<?, ?it/s]"
      ]
     },
     "metadata": {},
     "output_type": "display_data"
    },
    {
     "data": {
      "application/vnd.jupyter.widget-view+json": {
       "model_id": "ea3fada51ef643d597c0fa0f5a7fc96d",
       "version_major": 2,
       "version_minor": 0
      },
      "text/plain": [
       "  0%|          | 0/100 [00:00<?, ?it/s]"
      ]
     },
     "metadata": {},
     "output_type": "display_data"
    },
    {
     "data": {
      "application/vnd.jupyter.widget-view+json": {
       "model_id": "99dfa1c48b564532b147ee8d2d0de1f0",
       "version_major": 2,
       "version_minor": 0
      },
      "text/plain": [
       "  0%|          | 0/100 [00:00<?, ?it/s]"
      ]
     },
     "metadata": {},
     "output_type": "display_data"
    },
    {
     "data": {
      "application/vnd.jupyter.widget-view+json": {
       "model_id": "569ad404f3804d7ca0f1bae89fbc4625",
       "version_major": 2,
       "version_minor": 0
      },
      "text/plain": [
       "  0%|          | 0/100 [00:00<?, ?it/s]"
      ]
     },
     "metadata": {},
     "output_type": "display_data"
    },
    {
     "data": {
      "application/vnd.jupyter.widget-view+json": {
       "model_id": "da7f779bb8844450b38e65495fe99149",
       "version_major": 2,
       "version_minor": 0
      },
      "text/plain": [
       "  0%|          | 0/100 [00:00<?, ?it/s]"
      ]
     },
     "metadata": {},
     "output_type": "display_data"
    },
    {
     "data": {
      "application/vnd.jupyter.widget-view+json": {
       "model_id": "d6121cb766ae46cbad68160157ffe504",
       "version_major": 2,
       "version_minor": 0
      },
      "text/plain": [
       "  0%|          | 0/100 [00:00<?, ?it/s]"
      ]
     },
     "metadata": {},
     "output_type": "display_data"
    },
    {
     "data": {
      "text/plain": [
       "({'dish_name': 2.503759848167998,\n",
       "  'cuisine': 2.3917649388518845,\n",
       "  'diet': 0.6117659155729684,\n",
       "  'tags': 0.13785745660655768,\n",
       "  'main_ingredients': 1.155933114892237,\n",
       "  'cooking_time_minutes': 1.3302286237468963,\n",
       "  'difficulty': 2.5913095470354444,\n",
       "  'ingredients_full': 2.570509594277529},\n",
       " 0.9348611111111111)"
      ]
     },
     "execution_count": 49,
     "metadata": {},
     "output_type": "execute_result"
    }
   ],
   "source": [
    "simple_optimize(param_ranges, objective, n_iterations=20)"
   ]
  },
  {
   "cell_type": "code",
   "execution_count": 44,
   "id": "69b127a1-e06d-4a5b-b7af-3e27b8883309",
   "metadata": {},
   "outputs": [
    {
     "data": {
      "application/vnd.jupyter.widget-view+json": {
       "model_id": "f56a933a26d242409a6d8dce42d5572b",
       "version_major": 2,
       "version_minor": 0
      },
      "text/plain": [
       "  0%|          | 0/490 [00:00<?, ?it/s]"
      ]
     },
     "metadata": {},
     "output_type": "display_data"
    },
    {
     "data": {
      "text/plain": [
       "{'hit_rate': 0.9734693877551021, 'mrr': 0.9050413022351798}"
      ]
     },
     "execution_count": 44,
     "metadata": {},
     "output_type": "execute_result"
    }
   ],
   "source": [
    "# mrr\n",
    "def minsearch_improved(query):\n",
    "    boost = {'dish_name': 2.49,\n",
    "        'cuisine': 2.16,\n",
    "        'diet': 2.745,\n",
    "        'tags': 0.23,\n",
    "        'main_ingredients': 1.631,\n",
    "        'cooking_time_minutes': 0.39,\n",
    "        'difficulty': 2.64,\n",
    "        'ingredients_full': 1.73\n",
    "        } \n",
    "\n",
    "    results = index.search(\n",
    "        query=query,\n",
    "        filter_dict={},\n",
    "        boost_dict=boost,\n",
    "        num_results=10\n",
    "    )\n",
    "\n",
    "    return results\n",
    "\n",
    "evaluate(ground_truth, lambda q: minsearch_improved(q['question']))"
   ]
  }
 ],
 "metadata": {
  "kernelspec": {
   "display_name": "Python 3 (ipykernel)",
   "language": "python",
   "name": "python3"
  },
  "language_info": {
   "codemirror_mode": {
    "name": "ipython",
    "version": 3
   },
   "file_extension": ".py",
   "mimetype": "text/x-python",
   "name": "python",
   "nbconvert_exporter": "python",
   "pygments_lexer": "ipython3",
   "version": "3.12.1"
  }
 },
 "nbformat": 4,
 "nbformat_minor": 5
}
