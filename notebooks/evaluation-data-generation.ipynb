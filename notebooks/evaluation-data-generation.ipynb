{
 "cells": [
  {
   "cell_type": "markdown",
   "id": "af622a50-9a73-45f5-900f-19fb4a3808e3",
   "metadata": {},
   "source": [
    "### Ingestion"
   ]
  },
  {
   "cell_type": "code",
   "execution_count": 1,
   "id": "8a283828-0314-45e7-9b49-fdd26aa85d15",
   "metadata": {},
   "outputs": [],
   "source": [
    "# Import the datafile\n",
    "import requests\n",
    "data_url = 'https://raw.githubusercontent.com/eadka/fridgechef/main/Data/RecipeData.json'\n",
    "data_response = requests.get(data_url)\n",
    "recipes_data = data_response.json()"
   ]
  },
  {
   "cell_type": "code",
   "execution_count": 2,
   "id": "f63c7d37-d080-4192-9daf-c54ad0782e2c",
   "metadata": {},
   "outputs": [],
   "source": [
    "# Ensuring all the data has strings because minsearch, under the hood uses TfidfVectorizer and expects each text_field to be a string\n",
    "for recipe in recipes_data:\n",
    "    for field in [\"dish_name\",  \"cuisine\",  \"diet\", \"tags\",  \"main_ingredients\", \n",
    "                 \"cooking_time_minutes\", \"difficulty\",  \"ingredients_full\", \n",
    "                 \"instructions\", \"substitutions\", \"flavor_notes\"]:\n",
    "        value = recipe.get(field, \"\")\n",
    "        if isinstance(value,list):\n",
    "            recipe[field] = \" \".join(map(str,value)) # join the list into string\n",
    "        elif not isinstance(value, str):\n",
    "            recipe[field] = str(value) # convert numbers to string"
   ]
  },
  {
   "cell_type": "code",
   "execution_count": 3,
   "id": "b6389d96-97e1-4e0c-bdea-647236769ced",
   "metadata": {},
   "outputs": [],
   "source": [
    "# Open AI for LLM integration\n",
    "from openai import OpenAI\n",
    "\n",
    "client = OpenAI()"
   ]
  },
  {
   "cell_type": "code",
   "execution_count": 4,
   "id": "900fb969-b7e4-4751-bb6e-3fe0fab2b63c",
   "metadata": {},
   "outputs": [],
   "source": [
    "prompt_template = \"\"\"\n",
    "Emulate you are the user of the fridge chef appplication.\n",
    "Formulate 5 questions this user might ask based on provided recipes.\n",
    "Make the questions specific to these recipes.\n",
    "The record should contain the answer to the questions, and the questions should\n",
    "be complete and not too short. Use as few words as possible from the record.\n",
    "\n",
    "The record:\n",
    "dish_name: {dish_name}\n",
    "cuisine: {cuisine}\n",
    "diet: {diet}\n",
    "tags: {tags}\n",
    "main_ingredients: {main_ingredients}\n",
    "cooking_time_minutes: {cooking_time_minutes}\n",
    "difficulty: {difficulty}\n",
    "ingredients_full: {ingredients_full}\n",
    "instructions: {instructions}\n",
    "substitutions: {substitutions}\n",
    "flavor_notes: {flavor_notes}\n",
    "\n",
    "Provide the output in parsable JSON format without using code blocks:\n",
    "\n",
    "{{\"questions\": [\"question1\", \"question2\", ..., \"question5\"]}}\n",
    "\"\"\".strip()"
   ]
  },
  {
   "cell_type": "code",
   "execution_count": 5,
   "id": "1fb65620-dcb6-49cf-9e74-1acdaa13b813",
   "metadata": {},
   "outputs": [
    {
     "name": "stdout",
     "output_type": "stream",
     "text": [
      "Emulate you are the user of the fridge chef appplication.\n",
      "Formulate 5 questions this user might ask based on provided recipes.\n",
      "Make the questions specific to these recipes.\n",
      "The record should contain the answer to the questions, and the questions should\n",
      "be complete and not too short. Use as few words as possible from the record.\n",
      "\n",
      "The record:\n",
      "dish_name: Vegetable Pad Thai\n",
      "cuisine: Thai\n",
      "diet: Vegan\n",
      "tags: quick noodles stir-fry\n",
      "main_ingredients: rice noodles tofu carrot bean sprouts spring onions peanuts soy sauce lime garlic\n",
      "cooking_time_minutes: 25\n",
      "difficulty: Easy\n",
      "ingredients_full: {'item': 'rice noodles', 'quantity': '200g'} {'item': 'tofu', 'quantity': '150g'} {'item': 'carrot', 'quantity': '1 medium'} {'item': 'bean sprouts', 'quantity': '1 cup'} {'item': 'spring onions', 'quantity': '2'} {'item': 'peanuts', 'quantity': '2 tbsp, crushed'} {'item': 'soy sauce', 'quantity': '3 tbsp'} {'item': 'lime', 'quantity': '1'} {'item': 'garlic', 'quantity': '2 cloves'}\n",
      "instructions: Soak rice noodles in warm water for 20 minutes. Stir-fry garlic and tofu until golden. Add vegetables and stir-fry for 2-3 minutes. Add noodles and sauce, toss until combined. Garnish with peanuts and lime.\n",
      "substitutions: {'tofu': ['tempeh', 'chickpeas'], 'soy sauce': ['tamari', 'coconut aminos']}\n",
      "flavor_notes: Savory-sweet with tangy lime, mild chili heat.\n",
      "\n",
      "Provide the output in parsable JSON format without using code blocks:\n",
      "\n",
      "{\"questions\": [\"question1\", \"question2\", ..., \"question5\"]}\n"
     ]
    }
   ],
   "source": [
    "prompt = prompt_template.format(**recipes_data[0])\n",
    "print(prompt)"
   ]
  },
  {
   "cell_type": "code",
   "execution_count": 6,
   "id": "1e150d1c-ff65-4e74-9c5c-74fe3f8338b0",
   "metadata": {},
   "outputs": [],
   "source": [
    "# response = client.chat.completions.create(\n",
    "#     model='gpt-4o-mini',\n",
    "#     messages=[{\"role\": \"user\", \"content\": query}]\n",
    "# )\n",
    "\n",
    "# response.choices[0].message.content"
   ]
  },
  {
   "cell_type": "code",
   "execution_count": 7,
   "id": "b365544d-0f15-4c88-948b-391442720217",
   "metadata": {},
   "outputs": [],
   "source": [
    "def llm(prompt):\n",
    "    response = client.chat.completions.create(\n",
    "        model='gpt-4o-mini',\n",
    "        messages=[{\"role\": \"user\", \"content\": prompt}]\n",
    "    )\n",
    "    \n",
    "    return response.choices[0].message.content"
   ]
  },
  {
   "cell_type": "code",
   "execution_count": 8,
   "id": "4c84a3a5-df54-4c46-be9e-09b282066128",
   "metadata": {},
   "outputs": [],
   "source": [
    "questions = llm(prompt)"
   ]
  },
  {
   "cell_type": "code",
   "execution_count": 9,
   "id": "91dcd0c8-5eb3-4704-9112-8083e5b1b2c1",
   "metadata": {},
   "outputs": [],
   "source": [
    "import json"
   ]
  },
  {
   "cell_type": "code",
   "execution_count": 10,
   "id": "e47f16d8-4214-4cbb-9d29-79f78975ac5e",
   "metadata": {},
   "outputs": [
    {
     "data": {
      "text/plain": [
       "{'questions': ['How long should I soak the rice noodles before cooking?',\n",
       "  'What ingredients do I need to make the Vegetable Pad Thai?',\n",
       "  'Can I use chickpeas instead of tofu in this recipe?',\n",
       "  'What is the cooking time for this dish?',\n",
       "  'What flavor notes can I expect from the Vegetable Pad Thai?']}"
      ]
     },
     "execution_count": 10,
     "metadata": {},
     "output_type": "execute_result"
    }
   ],
   "source": [
    "json.loads(questions)"
   ]
  },
  {
   "cell_type": "code",
   "execution_count": 11,
   "id": "7096a94f-2e53-44f7-9696-0a8c15004328",
   "metadata": {},
   "outputs": [],
   "source": [
    "def generate_questions(doc):\n",
    "    prompt = prompt_template.format(**doc)\n",
    "\n",
    "    response = client.chat.completions.create(\n",
    "        model='gpt-4o-mini',\n",
    "        messages=[{\"role\": \"user\", \"content\": prompt}]\n",
    "    )\n",
    "\n",
    "    json_response = response.choices[0].message.content\n",
    "    return json_response"
   ]
  },
  {
   "cell_type": "code",
   "execution_count": 12,
   "id": "871e0e96-a704-4aa4-ab17-20f4ef975789",
   "metadata": {},
   "outputs": [],
   "source": [
    "from tqdm.auto import tqdm"
   ]
  },
  {
   "cell_type": "code",
   "execution_count": 13,
   "id": "97e84158-86c3-4d0d-b1df-f8630db1b94b",
   "metadata": {},
   "outputs": [],
   "source": [
    "results = {}"
   ]
  },
  {
   "cell_type": "code",
   "execution_count": 14,
   "id": "34514462-b002-4b1c-98d6-5033d7aad295",
   "metadata": {},
   "outputs": [
    {
     "data": {
      "application/vnd.jupyter.widget-view+json": {
       "model_id": "3f46066cef724c808ec429140d162589",
       "version_major": 2,
       "version_minor": 0
      },
      "text/plain": [
       "  0%|          | 0/99 [00:00<?, ?it/s]"
      ]
     },
     "metadata": {},
     "output_type": "display_data"
    }
   ],
   "source": [
    "for doc in tqdm(recipes_data): \n",
    "    doc_id = doc['dish_name']\n",
    "    if doc_id in results:\n",
    "        continue\n",
    "\n",
    "    questions_raw = generate_questions(doc)\n",
    "    questions = json.loads(questions_raw)\n",
    "    results[doc_id] = questions['questions']"
   ]
  },
  {
   "cell_type": "code",
   "execution_count": 15,
   "id": "490cbbcb-bf67-43ab-b49f-da5fa873a66e",
   "metadata": {},
   "outputs": [],
   "source": [
    "final_results = []\n",
    "\n",
    "for doc_id, questions in results.items():\n",
    "    for q in questions:\n",
    "        final_results.append((doc_id,q))"
   ]
  },
  {
   "cell_type": "code",
   "execution_count": 16,
   "id": "e68fa01d-4737-44a4-a69b-0ad6a9e591b8",
   "metadata": {},
   "outputs": [
    {
     "data": {
      "text/plain": [
       "('Vegetable Pad Thai',\n",
       " 'What are the main ingredients used in the Vegetable Pad Thai recipe?')"
      ]
     },
     "execution_count": 16,
     "metadata": {},
     "output_type": "execute_result"
    }
   ],
   "source": [
    "final_results[0]"
   ]
  },
  {
   "cell_type": "code",
   "execution_count": 17,
   "id": "867bfb23-51a3-4d5c-9de8-bb7766b045d5",
   "metadata": {},
   "outputs": [],
   "source": [
    "import pandas as pd\n",
    "\n",
    "df_results = pd.DataFrame(final_results, columns = ['id','question'])"
   ]
  },
  {
   "cell_type": "code",
   "execution_count": 18,
   "id": "45cd8b11-d8ac-4d19-abb8-9a2fa00ad92b",
   "metadata": {},
   "outputs": [],
   "source": [
    "df_results.to_csv('../Data/ground-truth-retrieval.csv',index=False)"
   ]
  },
  {
   "cell_type": "code",
   "execution_count": 19,
   "id": "891c19b2-c993-429d-99f3-40804d87a115",
   "metadata": {},
   "outputs": [
    {
     "name": "stdout",
     "output_type": "stream",
     "text": [
      "id,question\n",
      "Vegetable Pad Thai,What are the main ingredients used in the Vegetable Pad Thai recipe?\n",
      "Vegetable Pad Thai,How long does it take to cook the Vegetable Pad Thai from start to finish?\n",
      "Vegetable Pad Thai,What can I use instead of tofu in the Vegetable Pad Thai recipe?\n",
      "Vegetable Pad Thai,What type of cuisine does the Vegetable Pad Thai belong to?\n",
      "Vegetable Pad Thai,Can you describe the flavor profile of the Vegetable Pad Thai?\n",
      "Chana Masala,What type of cuisine does Chana Masala belong to?\n",
      "Chana Masala,How long does it take to cook Chana Masala?\n",
      "Chana Masala,What are the main ingredients in Chana Masala?\n",
      "Chana Masala,Can I substitute chickpeas with another ingredient?\n"
     ]
    }
   ],
   "source": [
    "! head ../Data/ground-truth-retrieval.csv"
   ]
  },
  {
   "cell_type": "code",
   "execution_count": null,
   "id": "e8145e4e-65f9-4a15-8fcc-31d76dbbdf83",
   "metadata": {},
   "outputs": [],
   "source": []
  }
 ],
 "metadata": {
  "kernelspec": {
   "display_name": "Python 3 (ipykernel)",
   "language": "python",
   "name": "python3"
  },
  "language_info": {
   "codemirror_mode": {
    "name": "ipython",
    "version": 3
   },
   "file_extension": ".py",
   "mimetype": "text/x-python",
   "name": "python",
   "nbconvert_exporter": "python",
   "pygments_lexer": "ipython3",
   "version": "3.12.1"
  }
 },
 "nbformat": 4,
 "nbformat_minor": 5
}
