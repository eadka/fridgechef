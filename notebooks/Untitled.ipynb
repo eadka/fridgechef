{
 "cells": [
  {
   "cell_type": "code",
   "execution_count": 5,
   "id": "0297cb62-3597-4090-9583-6173170783fc",
   "metadata": {},
   "outputs": [],
   "source": [
    "import json\n",
    "import requests"
   ]
  },
  {
   "cell_type": "code",
   "execution_count": 6,
   "id": "0a24bb0d-25e0-40f7-a723-821bdb728b4e",
   "metadata": {},
   "outputs": [],
   "source": [
    "def add_ids_to_json(input_file, output_file=None):\n",
    "\n",
    "    data_url = input_file\n",
    "    data_response = requests.get(data_url)\n",
    "    data = data_response.json()\n",
    "\n",
    "    # Add ID field (starting from 0)\n",
    "    for idx, entry in enumerate(data):\n",
    "        entry[\"id\"] = idx\n",
    "\n",
    "    # Save back to file (overwrite if output_file not provided)\n",
    "    if not output_file:\n",
    "        output_file = input_file\n",
    "\n",
    "    with open(output_file, \"w\", encoding=\"utf-8\") as f:\n",
    "        json.dump(data, f, indent=2, ensure_ascii=False)\n",
    "\n",
    "    print(f\"✅ IDs added and saved to {output_file}\")"
   ]
  },
  {
   "cell_type": "code",
   "execution_count": 8,
   "id": "d668ee21-ef45-4d5d-9c6c-e06342ffdb7c",
   "metadata": {},
   "outputs": [
    {
     "name": "stdout",
     "output_type": "stream",
     "text": [
      "✅ IDs added and saved to RecipeData_withids.json\n"
     ]
    }
   ],
   "source": [
    "# Example usage\n",
    "add_ids_to_json('https://raw.githubusercontent.com/eadka/fridgechef/main/Data/RecipeData.json', 'RecipeData_withids.json')"
   ]
  },
  {
   "cell_type": "code",
   "execution_count": null,
   "id": "9a8b0a24-bc2e-4f24-8430-485764a04074",
   "metadata": {},
   "outputs": [],
   "source": []
  }
 ],
 "metadata": {
  "kernelspec": {
   "display_name": "Python 3 (ipykernel)",
   "language": "python",
   "name": "python3"
  },
  "language_info": {
   "codemirror_mode": {
    "name": "ipython",
    "version": 3
   },
   "file_extension": ".py",
   "mimetype": "text/x-python",
   "name": "python",
   "nbconvert_exporter": "python",
   "pygments_lexer": "ipython3",
   "version": "3.12.1"
  }
 },
 "nbformat": 4,
 "nbformat_minor": 5
}
