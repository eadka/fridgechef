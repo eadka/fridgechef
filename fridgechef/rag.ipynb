{
 "cells": [
  {
   "cell_type": "code",
   "execution_count": 1,
   "id": "8a283828-0314-45e7-9b49-fdd26aa85d15",
   "metadata": {},
   "outputs": [],
   "source": [
    "# Import the datafile\n",
    "import requests\n",
    "data_url = 'https://raw.githubusercontent.com/eadka/fridgechef/main/Data/RecipeData.json'\n",
    "data_response = requests.get(data_url)\n",
    "recipes_data = data_response.json()"
   ]
  },
  {
   "cell_type": "code",
   "execution_count": 2,
   "id": "f63c7d37-d080-4192-9daf-c54ad0782e2c",
   "metadata": {},
   "outputs": [],
   "source": [
    "# Ensuring all the data has strings because minsearch, under the hood uses TfidfVectorizer and expects each text_field to be a string\n",
    "for recipe in recipes_data:\n",
    "    for field in [\"dish_name\",  \"cuisine\",  \"diet\", \"tags\",  \"main_ingredients\", \n",
    "                 \"cooking_time_minutes\", \"difficulty\",  \"ingredients_full\", \n",
    "                 \"instructions\", \"substitutions\", \"flavor_notes\"]:\n",
    "        value = recipe.get(field, \"\")\n",
    "        if isinstance(value,list):\n",
    "            recipe[field] = \" \".join(map(str,value)) # join the list into string\n",
    "        elif not isinstance(value, str):\n",
    "            recipe[field] = str(value) # convert numbers to string"
   ]
  },
  {
   "cell_type": "code",
   "execution_count": 3,
   "id": "8b3c387b-d249-4639-b022-b8eedf4d3677",
   "metadata": {},
   "outputs": [],
   "source": [
    "# Search engine and indexing\n",
    "import minsearch\n",
    "\n",
    "# Indexing the document\n",
    "index = minsearch.Index(\n",
    "    text_fields=[\"dish_name\",  \"cuisine\",  \"diet\", \"tags\",  \"main_ingredients\", \n",
    "                 \"cooking_time_minutes\", \"difficulty\",  \"ingredients_full\", \n",
    "                 \"instructions\", \"substitutions\", \"flavor_notes\"],\n",
    "    keyword_fields=[]\n",
    ")"
   ]
  },
  {
   "cell_type": "code",
   "execution_count": 4,
   "id": "2133c4a0-68d7-4d22-860d-191857547b08",
   "metadata": {
    "scrolled": true
   },
   "outputs": [
    {
     "data": {
      "text/plain": [
       "<minsearch.minsearch.Index at 0x7b849288ab70>"
      ]
     },
     "execution_count": 4,
     "metadata": {},
     "output_type": "execute_result"
    }
   ],
   "source": [
    "index.fit(recipes_data)"
   ]
  },
  {
   "cell_type": "code",
   "execution_count": 15,
   "id": "dc23865e-209a-42ba-b6ab-42f50b641660",
   "metadata": {},
   "outputs": [],
   "source": [
    "query = 'Give me recipes for carrots and beans'"
   ]
  },
  {
   "cell_type": "code",
   "execution_count": 6,
   "id": "b921baa9-49e2-478c-9499-0aa6e55b2f01",
   "metadata": {},
   "outputs": [
    {
     "data": {
      "text/plain": [
       "[{'dish_name': 'Rajma Masala',\n",
       "  'cuisine': 'Indian',\n",
       "  'diet': 'Vegan',\n",
       "  'tags': 'protein-rich curry comfort food',\n",
       "  'main_ingredients': 'kidney beans onion tomato ginger garam masala',\n",
       "  'cooking_time_minutes': '45',\n",
       "  'difficulty': 'Medium',\n",
       "  'ingredients_full': \"{'item': 'kidney beans', 'quantity': '2 cups cooked'} {'item': 'onion', 'quantity': '1 large'} {'item': 'tomato', 'quantity': '2'} {'item': 'ginger', 'quantity': '1 inch'} {'item': 'garam masala', 'quantity': '1 tsp'}\",\n",
       "  'instructions': 'Sauté onion and ginger until golden. Add tomato and spices, cook until soft. Add kidney beans, simmer for 20 minutes.',\n",
       "  'substitutions': \"{'kidney beans': ['black beans']}\",\n",
       "  'flavor_notes': 'Rich, spiced, and hearty.'},\n",
       " {'dish_name': 'Minestrone Soup',\n",
       "  'cuisine': 'Italian',\n",
       "  'diet': 'Vegan',\n",
       "  'tags': 'soup hearty vegetable-rich',\n",
       "  'main_ingredients': 'carrot celery zucchini beans pasta tomato',\n",
       "  'cooking_time_minutes': '40',\n",
       "  'difficulty': 'Easy',\n",
       "  'ingredients_full': \"{'item': 'carrot', 'quantity': '2'} {'item': 'celery', 'quantity': '2 stalks'} {'item': 'zucchini', 'quantity': '1'} {'item': 'cannellini beans', 'quantity': '1 cup cooked'} {'item': 'small pasta', 'quantity': '1/2 cup'} {'item': 'tomato', 'quantity': '2'} {'item': 'vegetable broth', 'quantity': '4 cups'}\",\n",
       "  'instructions': 'Sauté carrot and celery for 5 minutes. Add zucchini, tomato, beans, and broth. Simmer for 20 minutes. Add pasta and cook until tender.',\n",
       "  'substitutions': \"{'cannellini beans': ['kidney beans'], 'pasta': ['rice noodles']}\",\n",
       "  'flavor_notes': 'Comforting, savory with a light herbal aroma.'}]"
      ]
     },
     "execution_count": 6,
     "metadata": {},
     "output_type": "execute_result"
    }
   ],
   "source": [
    "index.search(query,num_results=2)"
   ]
  },
  {
   "cell_type": "code",
   "execution_count": 7,
   "id": "b6389d96-97e1-4e0c-bdea-647236769ced",
   "metadata": {},
   "outputs": [],
   "source": [
    "# Open AI for LLM integration\n",
    "from openai import OpenAI\n",
    "\n",
    "client = OpenAI()"
   ]
  },
  {
   "cell_type": "code",
   "execution_count": 17,
   "id": "1e150d1c-ff65-4e74-9c5c-74fe3f8338b0",
   "metadata": {},
   "outputs": [
    {
     "data": {
      "text/plain": [
       "'Here are three delicious recipes that feature carrots and beans as key ingredients:\\n\\n### 1. **Carrot and Bean Stir-Fry**\\n\\n**Ingredients:**\\n- 2 cups green beans, trimmed\\n- 2 medium carrots, sliced thinly\\n- 1 tablespoon vegetable oil\\n- 3 cloves garlic, minced\\n- 1 inch ginger, grated\\n- 3 tablespoons soy sauce\\n- 1 tablespoon sesame oil\\n- Sesame seeds for garnish\\n- Salt and pepper to taste\\n\\n**Instructions:**\\n1. Heat the vegetable oil in a large skillet or wok over medium-high heat.\\n2. Add the minced garlic and grated ginger. Sauté for about 30 seconds until fragrant.\\n3. Add the sliced carrots and green beans. Stir-fry for about 5-7 minutes until the vegetables are tender but still crisp.\\n4. Pour in the soy sauce and sesame oil. Toss to coat the vegetables evenly.\\n5. Season with salt and pepper to taste. Cook for another minute.\\n6. Remove from heat and garnish with sesame seeds before serving. Enjoy it as a side dish or over cooked rice or quinoa.\\n\\n### 2. **Carrot and Bean Salad**\\n\\n**Ingredients:**\\n- 2 cups cooked beans (such as kidney beans, black beans, or chickpeas)\\n- 2 medium carrots, grated\\n- 1/2 cup red bell pepper, diced\\n- 1/4 cup red onion, finely chopped\\n- 1/4 cup fresh parsley, chopped\\n- 3 tablespoons olive oil\\n- 2 tablespoons apple cider vinegar\\n- 1 teaspoon Dijon mustard\\n- Salt and pepper to taste\\n\\n**Instructions:**\\n1. In a large bowl, combine the cooked beans, grated carrots, red bell pepper, red onion, and parsley.\\n2. In a small bowl, whisk together the olive oil, apple cider vinegar, Dijon mustard, salt, and pepper.\\n3. Pour the dressing over the salad and toss to combine everything thoroughly.\\n4. Let the salad sit for about 15 minutes for the flavors to meld, then serve. This salad can be enjoyed cold or at room temperature and is great for meal prep!\\n\\n### 3. **Carrot and Bean Soup**\\n\\n**Ingredients:**\\n- 1 tablespoon olive oil\\n- 1 onion, diced\\n- 2 cloves garlic, minced\\n- 4 medium carrots, chopped\\n- 1 cup green beans, chopped\\n- 1 can (15 oz) cannellini beans, drained and rinsed\\n- 4 cups vegetable broth\\n- 1 teaspoon dried thyme\\n- 1 bay leaf\\n- Salt and pepper to taste\\n- Fresh parsley for garnish (optional)\\n\\n**Instructions:**\\n1. In a large pot, heat the olive oil over medium heat. Add the onion and garlic, cooking until the onion is translucent.\\n2. Stir in the chopped carrots and green beans, and sauté for about 5 minutes.\\n3. Add the cannellini beans, vegetable broth, thyme, and bay leaf. Bring to a boil, then reduce the heat and let it simmer for about 20-25 minutes, until the carrots are tender.\\n4. Remove the bay leaf and season the soup with salt and pepper to taste.\\n5. Serve hot, garnished with fresh parsley if desired. This soup is perfect as a comforting meal!\\n\\nEnjoy these nutritious and flavorful recipes featuring carrots and beans!'"
      ]
     },
     "execution_count": 17,
     "metadata": {},
     "output_type": "execute_result"
    }
   ],
   "source": [
    "# response = client.chat.completions.create(\n",
    "#     model='gpt-4o-mini',\n",
    "#     messages=[{\"role\": \"user\", \"content\": query}]\n",
    "# )\n",
    "\n",
    "# response.choices[0].message.content"
   ]
  },
  {
   "cell_type": "code",
   "execution_count": 8,
   "id": "dfeeecb6-b2a7-4f23-8147-52b1b5130805",
   "metadata": {},
   "outputs": [],
   "source": [
    "# Defining the RAG flow\n",
    "def search(query):\n",
    "    boost = {}\n",
    "\n",
    "    results = index.search(\n",
    "        query=query,\n",
    "        filter_dict={},\n",
    "        boost_dict=boost,\n",
    "        num_results=5\n",
    "    )\n",
    "\n",
    "    return results"
   ]
  },
  {
   "cell_type": "code",
   "execution_count": 9,
   "id": "83d27451-2e67-4663-afd8-d0e06f2f1c3a",
   "metadata": {},
   "outputs": [
    {
     "data": {
      "text/plain": [
       "{'dish_name': 'Vegetable Pad Thai',\n",
       " 'cuisine': 'Thai',\n",
       " 'diet': 'Vegan',\n",
       " 'tags': 'quick noodles stir-fry',\n",
       " 'main_ingredients': 'rice noodles tofu carrot bean sprouts spring onions peanuts soy sauce lime garlic',\n",
       " 'cooking_time_minutes': '25',\n",
       " 'difficulty': 'Easy',\n",
       " 'ingredients_full': \"{'item': 'rice noodles', 'quantity': '200g'} {'item': 'tofu', 'quantity': '150g'} {'item': 'carrot', 'quantity': '1 medium'} {'item': 'bean sprouts', 'quantity': '1 cup'} {'item': 'spring onions', 'quantity': '2'} {'item': 'peanuts', 'quantity': '2 tbsp, crushed'} {'item': 'soy sauce', 'quantity': '3 tbsp'} {'item': 'lime', 'quantity': '1'} {'item': 'garlic', 'quantity': '2 cloves'}\",\n",
       " 'instructions': 'Soak rice noodles in warm water for 20 minutes. Stir-fry garlic and tofu until golden. Add vegetables and stir-fry for 2-3 minutes. Add noodles and sauce, toss until combined. Garnish with peanuts and lime.',\n",
       " 'substitutions': \"{'tofu': ['tempeh', 'chickpeas'], 'soy sauce': ['tamari', 'coconut aminos']}\",\n",
       " 'flavor_notes': 'Savory-sweet with tangy lime, mild chili heat.'}"
      ]
     },
     "execution_count": 9,
     "metadata": {},
     "output_type": "execute_result"
    }
   ],
   "source": [
    "recipes_data[0]"
   ]
  },
  {
   "cell_type": "code",
   "execution_count": 16,
   "id": "97572462-6dbf-4490-aefb-88ef1d1aca76",
   "metadata": {},
   "outputs": [],
   "source": [
    "prompt_template = \"\"\"\n",
    "You're a \"Fridge Chef\", a helpful cooking assistant. \n",
    "The user will give you a list of vegetables or ingredients they have available.\n",
    "You must recommend vegetarian or vegan dishes from the CONTEXT, which is the recipes from the database.\n",
    "Base your answer only on the recipes in the CONTEXT.\n",
    "If you cannot find an exact match, suggest the closest dishes using the available ingredients.\n",
    "\n",
    "When answering:\n",
    "- Include the dish name, cuisine, diet type, main ingredients, and cooking time.\n",
    "- Provide short cooking instructions based on the CONTEXT.\n",
    "- Suggest possible ingredient substitutions if given in the CONTEXT.\n",
    "- If multiple dishes fit, return the top 3–5 most relevant recipes.\n",
    "\n",
    "QUESTION: {question}\n",
    "\n",
    "CONTEXT: \n",
    "{context}\n",
    "\"\"\".strip()\n",
    "\n",
    "entry_template = \"\"\"\n",
    "dish_name: {dish_name}\n",
    "cuisine: {cuisine}\n",
    "diet: {diet}\n",
    "tags: {tags}\n",
    "main_ingredients: {main_ingredients}\n",
    "cooking_time_minutes: {cooking_time_minutes}\n",
    "difficulty: {difficulty}\n",
    "ingredients_full: {ingredients_full}\n",
    "instructions: {instructions}\n",
    "substitutions: {substitutions}\n",
    "flavor_notes: {flavor_notes}\n",
    "\"\"\".strip()\n",
    "\n",
    "def build_prompt(query, search_results):\n",
    "    context = \"\"\n",
    "    \n",
    "    for doc in search_results:\n",
    "        context = context + entry_template.format(**doc) + \"\\n\\n\"\n",
    "    \n",
    "    prompt = prompt_template.format(question=query, context=context).strip()\n",
    "    return prompt"
   ]
  },
  {
   "cell_type": "code",
   "execution_count": 17,
   "id": "c6375f15-fe41-4902-97d4-60ffb16baccc",
   "metadata": {},
   "outputs": [],
   "source": [
    "search_results = search(query)\n",
    "prompt = build_prompt(query, search_results)"
   ]
  },
  {
   "cell_type": "code",
   "execution_count": 18,
   "id": "7bdb8aea-8d74-411d-a67e-2fb9d608c933",
   "metadata": {},
   "outputs": [
    {
     "name": "stdout",
     "output_type": "stream",
     "text": [
      "You're a \"Fridge Chef\", a helpful cooking assistant. \n",
      "The user will give you a list of vegetables or ingredients they have available.\n",
      "You must recommend vegetarian or vegan dishes from the CONTEXT, which is the recipes from the database.\n",
      "Base your answer only on the recipes in the CONTEXT.\n",
      "If you cannot find an exact match, suggest the closest dishes using the available ingredients.\n",
      "\n",
      "When answering:\n",
      "- Include the dish name, cuisine, diet type, main ingredients, and cooking time.\n",
      "- Provide short cooking instructions based on the CONTEXT.\n",
      "- Suggest possible ingredient substitutions if given in the CONTEXT.\n",
      "- If multiple dishes fit, return the top 3–5 most relevant recipes.\n",
      "\n",
      "QUESTION: Give me recipes for carrots and beans\n",
      "\n",
      "CONTEXT: \n",
      "dish_name: Rajma Masala\n",
      "cuisine: Indian\n",
      "diet: Vegan\n",
      "tags: protein-rich curry comfort food\n",
      "main_ingredients: kidney beans onion tomato ginger garam masala\n",
      "cooking_time_minutes: 45\n",
      "difficulty: Medium\n",
      "ingredients_full: {'item': 'kidney beans', 'quantity': '2 cups cooked'} {'item': 'onion', 'quantity': '1 large'} {'item': 'tomato', 'quantity': '2'} {'item': 'ginger', 'quantity': '1 inch'} {'item': 'garam masala', 'quantity': '1 tsp'}\n",
      "instructions: Sauté onion and ginger until golden. Add tomato and spices, cook until soft. Add kidney beans, simmer for 20 minutes.\n",
      "substitutions: {'kidney beans': ['black beans']}\n",
      "flavor_notes: Rich, spiced, and hearty.\n",
      "\n",
      "dish_name: Minestrone Soup\n",
      "cuisine: Italian\n",
      "diet: Vegan\n",
      "tags: soup hearty vegetable-rich\n",
      "main_ingredients: carrot celery zucchini beans pasta tomato\n",
      "cooking_time_minutes: 40\n",
      "difficulty: Easy\n",
      "ingredients_full: {'item': 'carrot', 'quantity': '2'} {'item': 'celery', 'quantity': '2 stalks'} {'item': 'zucchini', 'quantity': '1'} {'item': 'cannellini beans', 'quantity': '1 cup cooked'} {'item': 'small pasta', 'quantity': '1/2 cup'} {'item': 'tomato', 'quantity': '2'} {'item': 'vegetable broth', 'quantity': '4 cups'}\n",
      "instructions: Sauté carrot and celery for 5 minutes. Add zucchini, tomato, beans, and broth. Simmer for 20 minutes. Add pasta and cook until tender.\n",
      "substitutions: {'cannellini beans': ['kidney beans'], 'pasta': ['rice noodles']}\n",
      "flavor_notes: Comforting, savory with a light herbal aroma.\n",
      "\n",
      "dish_name: Ravioli with Spinach and Ricotta\n",
      "cuisine: Italian\n",
      "diet: Vegetarian\n",
      "tags: pasta stuffed italian\n",
      "main_ingredients: ravioli spinach ricotta tomato sauce\n",
      "cooking_time_minutes: 35\n",
      "difficulty: Medium\n",
      "ingredients_full: {'item': 'ravioli', 'quantity': '200 g'} {'item': 'spinach', 'quantity': '1 cup chopped'} {'item': 'ricotta cheese', 'quantity': '1/2 cup'} {'item': 'tomato sauce', 'quantity': '1 cup'} {'item': 'olive oil', 'quantity': '1 tbsp'}\n",
      "instructions: Boil ravioli until al dente. Mix spinach with ricotta to make filling and bake ravioli if using fresh pasta. Serve with heated tomato sauce on top.\n",
      "substitutions: {'ricotta': ['tofu for vegan option']}\n",
      "flavor_notes: Creamy, soft, and herby.\n",
      "\n",
      "dish_name: Kung Pao Vegetables\n",
      "cuisine: Chinese\n",
      "diet: Vegan\n",
      "tags: stir-fry spicy peanuts\n",
      "main_ingredients: bell peppers carrots peanuts soy sauce\n",
      "cooking_time_minutes: 25\n",
      "difficulty: Medium\n",
      "ingredients_full: {'item': 'bell peppers', 'quantity': '1 cup chopped'} {'item': 'carrots', 'quantity': '1 cup chopped'} {'item': 'peanuts', 'quantity': '1/4 cup'} {'item': 'garlic', 'quantity': '2 cloves minced'} {'item': 'soy sauce', 'quantity': '2 tbsp'}\n",
      "instructions: Sauté garlic in oil, add vegetables and stir-fry for 5-6 minutes. Add soy sauce and peanuts, cook for 2 more minutes. Serve hot.\n",
      "substitutions: {'peanuts': ['cashews']}\n",
      "flavor_notes: Spicy, nutty, and savory.\n",
      "\n",
      "dish_name: Sweet Corn Soup\n",
      "cuisine: Chinese\n",
      "diet: Vegetarian\n",
      "tags: soup starter chinese\n",
      "main_ingredients: corn vegetable broth carrots cornflour\n",
      "cooking_time_minutes: 25\n",
      "difficulty: Easy\n",
      "ingredients_full: {'item': 'corn kernels', 'quantity': '1 cup'} {'item': 'carrot', 'quantity': '1/2 cup diced'} {'item': 'vegetable broth', 'quantity': '3 cups'} {'item': 'cornflour', 'quantity': '1 tbsp'} {'item': 'soy sauce', 'quantity': '1 tsp'}\n",
      "instructions: Boil corn and carrots in vegetable broth until tender. Mix cornflour with water and add to soup to thicken. Season with soy sauce and serve hot.\n",
      "substitutions: {'cornflour': ['all-purpose flour']}\n",
      "flavor_notes: Sweet, savory, and comforting.\n"
     ]
    }
   ],
   "source": [
    "print(prompt)"
   ]
  },
  {
   "cell_type": "code",
   "execution_count": 19,
   "id": "be22f79d-6e11-48cf-bb80-eae49bb41203",
   "metadata": {},
   "outputs": [],
   "source": [
    "def llm(prompt):\n",
    "    response = client.chat.completions.create(\n",
    "        model='gpt-4o-mini',\n",
    "        messages=[{\"role\": \"user\", \"content\": prompt}]\n",
    "    )\n",
    "    \n",
    "    return response.choices[0].message.content"
   ]
  },
  {
   "cell_type": "code",
   "execution_count": 20,
   "id": "d80800f1-bed3-4f4b-95b8-6319a9b9fca9",
   "metadata": {},
   "outputs": [
    {
     "data": {
      "text/plain": [
       "'Here are some recipes you can make with carrots and beans:\\n\\n1. **Minestrone Soup**\\n   - **Cuisine:** Italian\\n   - **Diet:** Vegan\\n   - **Main Ingredients:** Carrot, celery, zucchini, cannellini beans, pasta, tomato.\\n   - **Cooking Time:** 40 minutes\\n   - **Cooking Instructions:** \\n     1. Sauté chopped carrots and celery in a pot for 5 minutes.\\n     2. Add zucchini, chopped tomatoes, beans, and vegetable broth. \\n     3. Simmer for 20 minutes, then add pasta and cook until tender.\\n   - **Substitutions:** Use kidney beans instead of cannellini beans or replace pasta with rice noodles.\\n\\n2. **Rajma Masala**\\n   - **Cuisine:** Indian\\n   - **Diet:** Vegan\\n   - **Main Ingredients:** Kidney beans, onion, tomato, ginger, garam masala.\\n   - **Cooking Time:** 45 minutes\\n   - **Cooking Instructions:** \\n     1. Sauté onion and ginger until golden.\\n     2. Add chopped tomatoes and spices, cooking until soft. \\n     3. Add kidney beans and simmer for 20 minutes.\\n   - **Substitutions:** You can use black beans instead of kidney beans.\\n\\n3. **Kung Pao Vegetables**\\n   - **Cuisine:** Chinese\\n   - **Diet:** Vegan\\n   - **Main Ingredients:** Bell peppers, carrots, peanuts, soy sauce.\\n   - **Cooking Time:** 25 minutes\\n   - **Cooking Instructions:** \\n     1. Sauté minced garlic in oil, then add chopped vegetables and stir-fry for 5-6 minutes. \\n     2. Pour in soy sauce and add peanuts, cooking for another 2 minutes. \\n     3. Serve hot.\\n   - **Substitutions:** Use cashews instead of peanuts if preferred.\\n\\nThese recipes utilize the ingredients you have available and offer a diverse range of flavors and cuisines!'"
      ]
     },
     "execution_count": 20,
     "metadata": {},
     "output_type": "execute_result"
    }
   ],
   "source": [
    "def rag(query):\n",
    "    search_results = search(query)\n",
    "    prompt = build_prompt(query, search_results)\n",
    "    answer = llm(prompt)\n",
    "    return answer\n",
    "rag(query)"
   ]
  },
  {
   "cell_type": "code",
   "execution_count": 22,
   "id": "7cbe7bcd-70b5-4bb9-9f60-1392b64e7906",
   "metadata": {},
   "outputs": [
    {
     "name": "stdout",
     "output_type": "stream",
     "text": [
      "Since you have nothing in your fridge, it's tricky to suggest exact recipes. However, I can guide you on what to look for or purchase to make a delicious meal. Here are some vegetarian or vegan dishes that can be made with basic ingredients common in most kitchens:\n",
      "\n",
      "1. **Mushroom Stroganoff**\n",
      "   - **Cuisine:** Italian\n",
      "   - **Diet:** Vegetarian\n",
      "   - **Main Ingredients:** Mushrooms, onion, garlic, cream, pasta\n",
      "   - **Cooking Time:** 30 minutes\n",
      "   - **Instructions:** Sauté onions and garlic in a pan, add sliced mushrooms, and cook until soft. Pour in cream and let it simmer for about 5 minutes. Toss with cooked pasta before serving.\n",
      "   - **Possible Substitutions:** If you’re dairy-free, you can use coconut cream or cashew cream instead of regular cream.\n",
      "\n",
      "2. **Gnocchi with Tomato Sauce**\n",
      "   - **Cuisine:** Italian\n",
      "   - **Diet:** Vegetarian\n",
      "   - **Main Ingredients:** Gnocchi, tomatoes, garlic, basil\n",
      "   - **Cooking Time:** 25 minutes\n",
      "   - **Instructions:** Cook gnocchi in boiling water until they float. In another pan, sauté minced garlic in olive oil, add chopped tomatoes, and cook down into a sauce. Toss the cooked gnocchi in the sauce and garnish with chopped basil.\n",
      "   - **Possible Substitutions:** If you cannot find gnocchi, you can use potato dumplings instead.\n",
      "\n",
      "3. **Spaghetti Aglio e Olio**\n",
      "   - **Cuisine:** Italian\n",
      "   - **Diet:** Vegan\n",
      "   - **Main Ingredients:** Spaghetti, garlic, olive oil, chili flakes\n",
      "   - **Cooking Time:** 20 minutes\n",
      "   - **Instructions:** Boil spaghetti until al dente. In a pan, sauté sliced garlic in olive oil, then add chili flakes for heat. Toss the spaghetti in this sauce and garnish with chopped parsley if available.\n",
      "   - **Possible Substitutions:** You could use linguine if you don’t have spaghetti.\n",
      "\n",
      "4. **Butternut Squash Risotto**\n",
      "   - **Cuisine:** Italian\n",
      "   - **Diet:** Vegetarian\n",
      "   - **Main Ingredients:** Arborio rice, butternut squash, onion, vegetable broth\n",
      "   - **Cooking Time:** 40 minutes\n",
      "   - **Instructions:** Sauté onion in olive oil, add arborio rice and toast for about 2 minutes. Gradually add vegetable broth while stirring until the rice is cooked and creamy, and fold in the diced butternut squash until tender.\n",
      "   - **Possible Substitutions:** Pumpkin or sweet potato can be used instead of butternut squash.\n",
      "\n",
      "5. **Cabbage Thoran**\n",
      "   - **Cuisine:** Indian\n",
      "   - **Diet:** Vegetarian\n",
      "   - **Main Ingredients:** Cabbage, grated coconut\n",
      "   - **Cooking Time:** 15 minutes\n",
      "   - **Instructions:** Heat oil in a pan, add mustard seeds, curry leaves, and green chili, then add shredded cabbage and stir-fry for about 5 minutes. Mix in the grated coconut and cook briefly before serving.\n",
      "   - **Possible Substitutions:** If you don’t have cabbage, you can use shredded carrots or beans instead.\n",
      "\n",
      "If you can get some of these ingredients, you can create a wonderful meal!\n"
     ]
    }
   ],
   "source": [
    "answer = rag('I have nothing in my fridge, what do you suggest?')\n",
    "print(answer)"
   ]
  },
  {
   "cell_type": "code",
   "execution_count": null,
   "id": "416a1136-7c2e-4ac9-9fad-f1e7d6dfe0d3",
   "metadata": {},
   "outputs": [],
   "source": []
  }
 ],
 "metadata": {
  "kernelspec": {
   "display_name": "Python 3 (ipykernel)",
   "language": "python",
   "name": "python3"
  },
  "language_info": {
   "codemirror_mode": {
    "name": "ipython",
    "version": 3
   },
   "file_extension": ".py",
   "mimetype": "text/x-python",
   "name": "python",
   "nbconvert_exporter": "python",
   "pygments_lexer": "ipython3",
   "version": "3.12.1"
  }
 },
 "nbformat": 4,
 "nbformat_minor": 5
}
