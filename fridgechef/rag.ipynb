{
 "cells": [
  {
   "cell_type": "code",
   "execution_count": 1,
   "id": "be49ee1f-8914-43b0-8164-3ef6bf9e3e62",
   "metadata": {},
   "outputs": [],
   "source": [
    "import requests"
   ]
  },
  {
   "cell_type": "code",
   "execution_count": null,
   "id": "8a283828-0314-45e7-9b49-fdd26aa85d15",
   "metadata": {},
   "outputs": [],
   "source": [
    "data_url = 'https://github.com/eadka/fridgechef/tree/main/Data"
   ]
  }
 ],
 "metadata": {
  "kernelspec": {
   "display_name": "Python 3 (ipykernel)",
   "language": "python",
   "name": "python3"
  },
  "language_info": {
   "codemirror_mode": {
    "name": "ipython",
    "version": 3
   },
   "file_extension": ".py",
   "mimetype": "text/x-python",
   "name": "python",
   "nbconvert_exporter": "python",
   "pygments_lexer": "ipython3",
   "version": "3.12.1"
  }
 },
 "nbformat": 4,
 "nbformat_minor": 5
}
